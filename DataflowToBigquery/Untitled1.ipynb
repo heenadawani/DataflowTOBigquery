{
 "cells": [
  {
   "cell_type": "code",
   "execution_count": 2,
   "metadata": {},
   "outputs": [],
   "source": [
    "import pandas as pd"
   ]
  },
  {
   "cell_type": "code",
   "execution_count": 4,
   "metadata": {},
   "outputs": [
    {
     "name": "stderr",
     "output_type": "stream",
     "text": [
      "IOPub data rate exceeded.\n",
      "The notebook server will temporarily stop sending output\n",
      "to the client in order to avoid crashing it.\n",
      "To change this limit, set the config variable\n",
      "`--NotebookApp.iopub_data_rate_limit`.\n",
      "\n",
      "Current values:\n",
      "NotebookApp.iopub_data_rate_limit=1000000.0 (bytes/sec)\n",
      "NotebookApp.rate_limit_window=3.0 (secs)\n",
      "\n"
     ]
    }
   ],
   "source": [
    "df=pd.read_csv(\"P9-ConsoleGames.csv\")\n",
    "#df1=pd.read_csv(\"Games Data/P9-ConsoleDates.csv\")\n",
    "df= df.dropna(axis=0, subset=['Name'])\n",
    "df['Platform'] = df['Platform'].fillna('N/A')\n",
    "df['Publisher'] = df['Publisher'].fillna('N/A')\n",
    "df['Year'] = df['Year'].fillna(0.0)\n",
    "cols=[\"NA_Sales\",\"EU_Sales\",\"JP_Sales\",\"Other_Sales\"]\n",
    "df[cols]=df[cols].fillna(0.0)\n",
    "#df1['Comment'] = df1['Comment'].fillna('N/A')\n",
    "#df1['Discontinued']=df1['Discontinued'].fillna('0')\n",
    "newdict=df.to_dict('records')\n",
    "print(newdict)\n",
    "#dict1=df1.to_dict('records')"
   ]
  },
  {
   "cell_type": "code",
   "execution_count": null,
   "metadata": {},
   "outputs": [],
   "source": []
  }
 ],
 "metadata": {
  "kernelspec": {
   "display_name": "Python 3",
   "language": "python",
   "name": "python3"
  },
  "language_info": {
   "codemirror_mode": {
    "name": "ipython",
    "version": 3
   },
   "file_extension": ".py",
   "mimetype": "text/x-python",
   "name": "python",
   "nbconvert_exporter": "python",
   "pygments_lexer": "ipython3",
   "version": "3.7.3"
  }
 },
 "nbformat": 4,
 "nbformat_minor": 2
}
